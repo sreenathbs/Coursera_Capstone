{
 "cells": [
  {
   "cell_type": "markdown",
   "metadata": {},
   "source": [
    "This notebook will be used for the capstone project\n",
    "\n",
    "Course link: https://www.coursera.org/learn/applied-data-science-capstone"
   ]
  },
  {
   "cell_type": "code",
   "execution_count": 1,
   "metadata": {},
   "outputs": [],
   "source": [
    "import numpy as np\n",
    "import pandas as pd"
   ]
  },
  {
   "cell_type": "code",
   "execution_count": 2,
   "metadata": {},
   "outputs": [
    {
     "name": "stdout",
     "output_type": "stream",
     "text": [
      "Hello Capstone Project Course!\n"
     ]
    }
   ],
   "source": [
    "print(\"Hello Capstone Project Course!\")"
   ]
  },
  {
   "cell_type": "markdown",
   "metadata": {},
   "source": [
    "## Problem Description"
   ]
  },
  {
   "cell_type": "markdown",
   "metadata": {},
   "source": [
    "#### 1. A description of the problem and a discussion of the background.\n",
    "\n",
    "        SUGGESTING STATIONS FOR THE SILVER LINE PROJECT (KERALA)\n",
    "        \n",
    "                        The Semi High Speed Rail (Silver Line) corridor runs 532km, connecting the north end and the south end of the state. It reduces the total travel time between Thiruvananthapuram and Kasargod to less than 4 hours, which is currently 12 hours.\n",
    "                        \n",
    "                        Here, I examine the tentative alignment proposed by k-rail and try to cluster the popular venues of the state to suggest potential stations for the project.\n",
    "    \n"
   ]
  },
  {
   "cell_type": "markdown",
   "metadata": {},
   "source": [
    "#### 2. A description of the data and how it will be used to solve the problem. \n",
    "\n",
    "        -Districts through which the railway corridor runs \n",
    "            -(collected from https://keralarail.com)\n",
    "        -Main venues around the district which should have good connectivity to the Silver Line project\n",
    "            -(collected from foursquare places api)\n",
    "\n",
    "        The first part of the project will be to determine the number of stations requred (technically, k in kmeans). Once I found a satisfiable value for k, the next step is clustering.\n",
    "        Locations collected from foursquare api are clustered into k points. The cluster centroids are calculated. These cluster centroids will serve as the location of the station. "
   ]
  }
 ],
 "metadata": {
  "kernelspec": {
   "display_name": "Python 3",
   "language": "python",
   "name": "python3"
  },
  "language_info": {
   "codemirror_mode": {
    "name": "ipython",
    "version": 3
   },
   "file_extension": ".py",
   "mimetype": "text/x-python",
   "name": "python",
   "nbconvert_exporter": "python",
   "pygments_lexer": "ipython3",
   "version": "3.6.7"
  }
 },
 "nbformat": 4,
 "nbformat_minor": 2
}
